{
 "cells": [
  {
   "cell_type": "code",
   "execution_count": 12,
   "id": "c91f6176",
   "metadata": {},
   "outputs": [],
   "source": [
    "import os \n",
    "import cv2 \n",
    "import matplotlib.pyplot as plt \n",
    "import glob \n",
    "import numpy as np "
   ]
  },
  {
   "cell_type": "code",
   "execution_count": 13,
   "id": "876feed5",
   "metadata": {},
   "outputs": [],
   "source": [
    "data_dir = \"data/vae\""
   ]
  },
  {
   "cell_type": "code",
   "execution_count": 14,
   "id": "69a1df6a",
   "metadata": {},
   "outputs": [
    {
     "data": {
      "text/plain": [
       "['thread_9',\n",
       " 'thread_13',\n",
       " 'thread_19',\n",
       " 'thread_2',\n",
       " 'thread_10',\n",
       " 'thread_8',\n",
       " 'thread_17',\n",
       " 'thread_15',\n",
       " 'thread_5',\n",
       " 'thread_11',\n",
       " 'thread_16',\n",
       " 'thread_1',\n",
       " 'thread_4',\n",
       " 'thread_12',\n",
       " 'thread_6',\n",
       " 'thread_7',\n",
       " 'thread_0',\n",
       " 'thread_14',\n",
       " 'thread_18',\n",
       " 'thread_3']"
      ]
     },
     "execution_count": 14,
     "metadata": {},
     "output_type": "execute_result"
    }
   ],
   "source": [
    "os.listdir(data_dir)"
   ]
  },
  {
   "cell_type": "code",
   "execution_count": 15,
   "id": "40e6d9a3",
   "metadata": {},
   "outputs": [],
   "source": [
    "files = glob.glob(\"data/vae/**/*.npz\", recursive=True)"
   ]
  },
  {
   "cell_type": "code",
   "execution_count": 16,
   "id": "3017f419",
   "metadata": {},
   "outputs": [
    {
     "data": {
      "text/plain": [
       "10020"
      ]
     },
     "execution_count": 16,
     "metadata": {},
     "output_type": "execute_result"
    }
   ],
   "source": [
    "len(files)"
   ]
  },
  {
   "cell_type": "code",
   "execution_count": 17,
   "id": "2969b595",
   "metadata": {},
   "outputs": [
    {
     "data": {
      "text/plain": [
       "'data/vae/thread_9/rollout_176.npz'"
      ]
     },
     "execution_count": 17,
     "metadata": {},
     "output_type": "execute_result"
    }
   ],
   "source": [
    "files[0]"
   ]
  },
  {
   "cell_type": "code",
   "execution_count": 20,
   "id": "c7f8fc7e",
   "metadata": {},
   "outputs": [],
   "source": [
    "test = np.load(files[0], allow_pickle=True)"
   ]
  },
  {
   "cell_type": "code",
   "execution_count": 21,
   "id": "5f48bd4b",
   "metadata": {},
   "outputs": [
    {
     "data": {
      "text/plain": [
       "numpy.lib.npyio.NpzFile"
      ]
     },
     "execution_count": 21,
     "metadata": {},
     "output_type": "execute_result"
    }
   ],
   "source": [
    "type(test)"
   ]
  },
  {
   "cell_type": "code",
   "execution_count": 22,
   "id": "6fd5a0f0",
   "metadata": {},
   "outputs": [
    {
     "name": "stdout",
     "output_type": "stream",
     "text": [
      "Help on NpzFile in module numpy.lib.npyio object:\n",
      "\n",
      "class NpzFile(collections.abc.Mapping)\n",
      " |  NpzFile(fid, own_fid=False, allow_pickle=False, pickle_kwargs=None, *, max_header_size=10000)\n",
      " |  \n",
      " |  NpzFile(fid)\n",
      " |  \n",
      " |  A dictionary-like object with lazy-loading of files in the zipped\n",
      " |  archive provided on construction.\n",
      " |  \n",
      " |  `NpzFile` is used to load files in the NumPy ``.npz`` data archive\n",
      " |  format. It assumes that files in the archive have a ``.npy`` extension,\n",
      " |  other files are ignored.\n",
      " |  \n",
      " |  The arrays and file strings are lazily loaded on either\n",
      " |  getitem access using ``obj['key']`` or attribute lookup using\n",
      " |  ``obj.f.key``. A list of all files (without ``.npy`` extensions) can\n",
      " |  be obtained with ``obj.files`` and the ZipFile object itself using\n",
      " |  ``obj.zip``.\n",
      " |  \n",
      " |  Attributes\n",
      " |  ----------\n",
      " |  files : list of str\n",
      " |      List of all files in the archive with a ``.npy`` extension.\n",
      " |  zip : ZipFile instance\n",
      " |      The ZipFile object initialized with the zipped archive.\n",
      " |  f : BagObj instance\n",
      " |      An object on which attribute can be performed as an alternative\n",
      " |      to getitem access on the `NpzFile` instance itself.\n",
      " |  allow_pickle : bool, optional\n",
      " |      Allow loading pickled data. Default: False\n",
      " |  \n",
      " |      .. versionchanged:: 1.16.3\n",
      " |          Made default False in response to CVE-2019-6446.\n",
      " |  \n",
      " |  pickle_kwargs : dict, optional\n",
      " |      Additional keyword arguments to pass on to pickle.load.\n",
      " |      These are only useful when loading object arrays saved on\n",
      " |      Python 2 when using Python 3.\n",
      " |  max_header_size : int, optional\n",
      " |      Maximum allowed size of the header.  Large headers may not be safe\n",
      " |      to load securely and thus require explicitly passing a larger value.\n",
      " |      See :py:meth:`ast.literal_eval()` for details.\n",
      " |      This option is ignored when `allow_pickle` is passed.  In that case\n",
      " |      the file is by definition trusted and the limit is unnecessary.\n",
      " |  \n",
      " |  Parameters\n",
      " |  ----------\n",
      " |  fid : file or str\n",
      " |      The zipped archive to open. This is either a file-like object\n",
      " |      or a string containing the path to the archive.\n",
      " |  own_fid : bool, optional\n",
      " |      Whether NpzFile should close the file handle.\n",
      " |      Requires that `fid` is a file-like object.\n",
      " |  \n",
      " |  Examples\n",
      " |  --------\n",
      " |  >>> from tempfile import TemporaryFile\n",
      " |  >>> outfile = TemporaryFile()\n",
      " |  >>> x = np.arange(10)\n",
      " |  >>> y = np.sin(x)\n",
      " |  >>> np.savez(outfile, x=x, y=y)\n",
      " |  >>> _ = outfile.seek(0)\n",
      " |  \n",
      " |  >>> npz = np.load(outfile)\n",
      " |  >>> isinstance(npz, np.lib.npyio.NpzFile)\n",
      " |  True\n",
      " |  >>> sorted(npz.files)\n",
      " |  ['x', 'y']\n",
      " |  >>> npz['x']  # getitem access\n",
      " |  array([0, 1, 2, 3, 4, 5, 6, 7, 8, 9])\n",
      " |  >>> npz.f.x  # attribute lookup\n",
      " |  array([0, 1, 2, 3, 4, 5, 6, 7, 8, 9])\n",
      " |  \n",
      " |  Method resolution order:\n",
      " |      NpzFile\n",
      " |      collections.abc.Mapping\n",
      " |      collections.abc.Collection\n",
      " |      collections.abc.Sized\n",
      " |      collections.abc.Iterable\n",
      " |      collections.abc.Container\n",
      " |      builtins.object\n",
      " |  \n",
      " |  Methods defined here:\n",
      " |  \n",
      " |  __del__(self)\n",
      " |  \n",
      " |  __enter__(self)\n",
      " |  \n",
      " |  __exit__(self, exc_type, exc_value, traceback)\n",
      " |  \n",
      " |  __getitem__(self, key)\n",
      " |  \n",
      " |  __init__(self, fid, own_fid=False, allow_pickle=False, pickle_kwargs=None, *, max_header_size=10000)\n",
      " |      Initialize self.  See help(type(self)) for accurate signature.\n",
      " |  \n",
      " |  __iter__(self)\n",
      " |      # Implement the Mapping ABC\n",
      " |  \n",
      " |  __len__(self)\n",
      " |  \n",
      " |  close(self)\n",
      " |      Close the file.\n",
      " |  \n",
      " |  ----------------------------------------------------------------------\n",
      " |  Data descriptors defined here:\n",
      " |  \n",
      " |  __dict__\n",
      " |      dictionary for instance variables (if defined)\n",
      " |  \n",
      " |  __weakref__\n",
      " |      list of weak references to the object (if defined)\n",
      " |  \n",
      " |  ----------------------------------------------------------------------\n",
      " |  Data and other attributes defined here:\n",
      " |  \n",
      " |  __abstractmethods__ = frozenset()\n",
      " |  \n",
      " |  fid = None\n",
      " |  \n",
      " |  zip = None\n",
      " |  \n",
      " |  ----------------------------------------------------------------------\n",
      " |  Methods inherited from collections.abc.Mapping:\n",
      " |  \n",
      " |  __contains__(self, key)\n",
      " |  \n",
      " |  __eq__(self, other)\n",
      " |      Return self==value.\n",
      " |  \n",
      " |  get(self, key, default=None)\n",
      " |      D.get(k[,d]) -> D[k] if k in D, else d.  d defaults to None.\n",
      " |  \n",
      " |  items(self)\n",
      " |      D.items() -> a set-like object providing a view on D's items\n",
      " |  \n",
      " |  keys(self)\n",
      " |      D.keys() -> a set-like object providing a view on D's keys\n",
      " |  \n",
      " |  values(self)\n",
      " |      D.values() -> an object providing a view on D's values\n",
      " |  \n",
      " |  ----------------------------------------------------------------------\n",
      " |  Data and other attributes inherited from collections.abc.Mapping:\n",
      " |  \n",
      " |  __hash__ = None\n",
      " |  \n",
      " |  __reversed__ = None\n",
      " |  \n",
      " |  ----------------------------------------------------------------------\n",
      " |  Class methods inherited from collections.abc.Collection:\n",
      " |  \n",
      " |  __subclasshook__(C) from abc.ABCMeta\n",
      " |      Abstract classes can override this to customize issubclass().\n",
      " |      \n",
      " |      This is invoked early on by abc.ABCMeta.__subclasscheck__().\n",
      " |      It should return True, False or NotImplemented.  If it returns\n",
      " |      NotImplemented, the normal algorithm is used.  Otherwise, it\n",
      " |      overrides the normal algorithm (and the outcome is cached).\n",
      " |  \n",
      " |  ----------------------------------------------------------------------\n",
      " |  Class methods inherited from collections.abc.Iterable:\n",
      " |  \n",
      " |  __class_getitem__ = GenericAlias(...) from abc.ABCMeta\n",
      " |      Represent a PEP 585 generic type\n",
      " |      \n",
      " |      E.g. for t = list[int], t.__origin__ is list and t.__args__ is (int,).\n",
      "\n"
     ]
    }
   ],
   "source": [
    "help(test)"
   ]
  },
  {
   "cell_type": "code",
   "execution_count": 23,
   "id": "788951f7",
   "metadata": {},
   "outputs": [
    {
     "data": {
      "text/plain": [
       "['observations', 'rewards', 'actions', 'terminals']"
      ]
     },
     "execution_count": 23,
     "metadata": {},
     "output_type": "execute_result"
    }
   ],
   "source": [
    "test.files"
   ]
  },
  {
   "cell_type": "code",
   "execution_count": 25,
   "id": "3e5efb84",
   "metadata": {},
   "outputs": [
    {
     "data": {
      "text/plain": [
       "(1000, 96, 96, 3)"
      ]
     },
     "execution_count": 25,
     "metadata": {},
     "output_type": "execute_result"
    }
   ],
   "source": [
    "test['observations'].shape"
   ]
  },
  {
   "cell_type": "code",
   "execution_count": 34,
   "id": "2a85136c",
   "metadata": {},
   "outputs": [
    {
     "data": {
      "text/plain": [
       "<matplotlib.image.AxesImage at 0x7f0ff3b0fb80>"
      ]
     },
     "execution_count": 34,
     "metadata": {},
     "output_type": "execute_result"
    },
    {
     "data": {
      "image/png": "[encoded data removed]",
      "text/plain": [
       "<Figure size 640x480 with 1 Axes>"
      ]
     },
     "metadata": {},
     "output_type": "display_data"
    }
   ],
   "source": [
    "plt.imshow(test['observations'][999])"
   ]
  },
  {
   "cell_type": "code",
   "execution_count": null,
   "id": "fa735e8f",
   "metadata": {},
   "outputs": [],
   "source": []
  }
 ],
 "metadata": {
  "kernelspec": {
   "display_name": "Python 3 (ipykernel)",
   "language": "python",
   "name": "python3"
  },
  "language_info": {
   "codemirror_mode": {
    "name": "ipython",
    "version": 3
   },
   "file_extension": ".py",
   "mimetype": "text/x-python",
   "name": "python",
   "nbconvert_exporter": "python",
   "pygments_lexer": "ipython3",
   "version": "3.10.6"
  }
 },
 "nbformat": 4,
 "nbformat_minor": 5
}
